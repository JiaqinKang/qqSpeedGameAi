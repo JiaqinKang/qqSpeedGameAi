{
 "cells": [
  {
   "cell_type": "code",
   "execution_count": 1,
   "metadata": {},
   "outputs": [],
   "source": [
    "import pandas as pd"
   ]
  },
  {
   "cell_type": "code",
   "execution_count": 2,
   "metadata": {},
   "outputs": [
    {
     "name": "stdout",
     "output_type": "stream",
     "text": [
      "           frame_path  up_state  up_hold_duration  left_state   \n",
      "0  frames/frame_0.jpg         0               0.0           0  \\\n",
      "1  frames/frame_1.jpg         0               0.0           0   \n",
      "2  frames/frame_2.jpg         0               0.0           0   \n",
      "3  frames/frame_3.jpg         0               0.0           0   \n",
      "4  frames/frame_4.jpg         0               0.0           0   \n",
      "\n",
      "   left_hold_duration  right_state  right_hold_duration  \n",
      "0                 0.0            0                  0.0  \n",
      "1                 0.0            0                  0.0  \n",
      "2                 0.0            0                  0.0  \n",
      "3                 0.0            0                  0.0  \n",
      "4                 0.0            0                  0.0  \n"
     ]
    }
   ],
   "source": [
    "df = pd.read_csv(\"dataset.csv\")\n",
    "# Display the first few rows of the DataFrame\n",
    "print(df.head())"
   ]
  },
  {
   "cell_type": "code",
   "execution_count": 3,
   "metadata": {},
   "outputs": [],
   "source": [
    "# Load the image data\n",
    "\n",
    "from PIL import Image\n",
    "import numpy as np\n",
    "df['frame_path'] = df['frame_path'].apply(lambda x: np.array(Image.open(x)))"
   ]
  },
  {
   "cell_type": "code",
   "execution_count": 4,
   "metadata": {},
   "outputs": [],
   "source": [
    "# normalize the image data\n",
    "df['frame_path'] = df['frame_path'].apply(lambda x: x/255)"
   ]
  },
  {
   "cell_type": "code",
   "execution_count": 5,
   "metadata": {},
   "outputs": [
    {
     "name": "stdout",
     "output_type": "stream",
     "text": [
      "                                          frame_path  up_state  left_state   \n",
      "0  [[[0.9764705882352941, 0.9686274509803922, 0.9...         0           0  \\\n",
      "1  [[[0.0196078431372549, 0.0196078431372549, 0.0...         0           0   \n",
      "2  [[[0.9882352941176471, 0.984313725490196, 0.96...         0           0   \n",
      "3  [[[0.00784313725490196, 0.027450980392156862, ...         0           0   \n",
      "4  [[[0.0196078431372549, 0.03137254901960784, 0....         0           0   \n",
      "\n",
      "   right_state  \n",
      "0            0  \n",
      "1            0  \n",
      "2            0  \n",
      "3            0  \n",
      "4            0  \n"
     ]
    }
   ],
   "source": [
    "# Columns to be dropped\n",
    "drop_columns = [\n",
    "                'up_hold_duration',\n",
    "                'left_hold_duration',\n",
    "                'right_hold_duration']\n",
    "\n",
    "# Drop the columns\n",
    "df = df.drop(columns=drop_columns)\n",
    "\n",
    "print(df.head())\n"
   ]
  },
  {
   "cell_type": "code",
   "execution_count": 6,
   "metadata": {},
   "outputs": [],
   "source": [
    "# # Create a new column 'empty_state' initialized with zeros\n",
    "# df['empty_state'] = 0\n",
    "\n",
    "# # Iterate through rows\n",
    "# for i in range(len(df)):\n",
    "#     # If 'left' and 'right' are the same\n",
    "#     if df.loc[i, 'left_state'] == df.loc[i, 'right_state']:\n",
    "#         # Replace 'left' and 'right' with 0\n",
    "#         df.loc[i, 'left_state'] = 0\n",
    "#         df.loc[i, 'left_state'] = 0\n",
    "#         # Assign 'empty_state' to 1\n",
    "#         df.loc[i, 'empty_state'] = 1\n",
    "    \n",
    "#     # else assign 'empty_state' to 0\n",
    "#     else:\n",
    "#         df.loc[i, 'empty_state'] = 0\n",
    "\n",
    "# # Display the first few rows of the DataFrame\n",
    "# print(df.head())"
   ]
  },
  {
   "cell_type": "code",
   "execution_count": 7,
   "metadata": {},
   "outputs": [
    {
     "data": {
      "text/html": [
       "<div>\n",
       "<style scoped>\n",
       "    .dataframe tbody tr th:only-of-type {\n",
       "        vertical-align: middle;\n",
       "    }\n",
       "\n",
       "    .dataframe tbody tr th {\n",
       "        vertical-align: top;\n",
       "    }\n",
       "\n",
       "    .dataframe thead th {\n",
       "        text-align: right;\n",
       "    }\n",
       "</style>\n",
       "<table border=\"1\" class=\"dataframe\">\n",
       "  <thead>\n",
       "    <tr style=\"text-align: right;\">\n",
       "      <th></th>\n",
       "      <th>up_state</th>\n",
       "      <th>left_state</th>\n",
       "      <th>right_state</th>\n",
       "    </tr>\n",
       "  </thead>\n",
       "  <tbody>\n",
       "    <tr>\n",
       "      <th>count</th>\n",
       "      <td>11933.000000</td>\n",
       "      <td>11933.000000</td>\n",
       "      <td>11933.000000</td>\n",
       "    </tr>\n",
       "    <tr>\n",
       "      <th>mean</th>\n",
       "      <td>0.692198</td>\n",
       "      <td>0.023800</td>\n",
       "      <td>0.158803</td>\n",
       "    </tr>\n",
       "    <tr>\n",
       "      <th>std</th>\n",
       "      <td>0.461603</td>\n",
       "      <td>0.152431</td>\n",
       "      <td>0.365508</td>\n",
       "    </tr>\n",
       "    <tr>\n",
       "      <th>min</th>\n",
       "      <td>0.000000</td>\n",
       "      <td>0.000000</td>\n",
       "      <td>0.000000</td>\n",
       "    </tr>\n",
       "    <tr>\n",
       "      <th>25%</th>\n",
       "      <td>0.000000</td>\n",
       "      <td>0.000000</td>\n",
       "      <td>0.000000</td>\n",
       "    </tr>\n",
       "    <tr>\n",
       "      <th>50%</th>\n",
       "      <td>1.000000</td>\n",
       "      <td>0.000000</td>\n",
       "      <td>0.000000</td>\n",
       "    </tr>\n",
       "    <tr>\n",
       "      <th>75%</th>\n",
       "      <td>1.000000</td>\n",
       "      <td>0.000000</td>\n",
       "      <td>0.000000</td>\n",
       "    </tr>\n",
       "    <tr>\n",
       "      <th>max</th>\n",
       "      <td>1.000000</td>\n",
       "      <td>1.000000</td>\n",
       "      <td>1.000000</td>\n",
       "    </tr>\n",
       "  </tbody>\n",
       "</table>\n",
       "</div>"
      ],
      "text/plain": [
       "           up_state    left_state   right_state\n",
       "count  11933.000000  11933.000000  11933.000000\n",
       "mean       0.692198      0.023800      0.158803\n",
       "std        0.461603      0.152431      0.365508\n",
       "min        0.000000      0.000000      0.000000\n",
       "25%        0.000000      0.000000      0.000000\n",
       "50%        1.000000      0.000000      0.000000\n",
       "75%        1.000000      0.000000      0.000000\n",
       "max        1.000000      1.000000      1.000000"
      ]
     },
     "execution_count": 7,
     "metadata": {},
     "output_type": "execute_result"
    }
   ],
   "source": [
    "df.describe()"
   ]
  },
  {
   "cell_type": "code",
   "execution_count": 8,
   "metadata": {},
   "outputs": [
    {
     "name": "stdout",
     "output_type": "stream",
     "text": [
      "                                            frame_path  up_state  left_state   \n",
      "525  [[[0.9529411764705882, 0.9568627450980393, 0.9...         1           0  \\\n",
      "526  [[[0.9568627450980393, 0.9372549019607843, 0.9...         1           0   \n",
      "527  [[[0.9529411764705882, 0.9568627450980393, 0.9...         1           0   \n",
      "528  [[[0.9529411764705882, 0.9568627450980393, 0.9...         1           0   \n",
      "529  [[[0.9372549019607843, 0.9607843137254902, 0.9...         1           0   \n",
      "\n",
      "     right_state  \n",
      "525            0  \n",
      "526            0  \n",
      "527            0  \n",
      "528            0  \n",
      "529            0  \n"
     ]
    }
   ],
   "source": [
    "# itterate through rows and drop the rows where up, left and right are all 0\n",
    "for i in range(len(df)):\n",
    "    if df.loc[i, 'up_state'] == 0 and df.loc[i, 'left_state'] == 0 and df.loc[i, 'right_state'] == 0:\n",
    "        df = df.drop(i)\n",
    "\n",
    "# Display the first few rows of the DataFrame\n",
    "print(df.head())\n"
   ]
  },
  {
   "cell_type": "code",
   "execution_count": 9,
   "metadata": {},
   "outputs": [],
   "source": [
    "# drop up_state column\n",
    "df = df.drop(columns=['up_state'])"
   ]
  },
  {
   "cell_type": "code",
   "execution_count": 10,
   "metadata": {},
   "outputs": [
    {
     "data": {
      "text/html": [
       "<div>\n",
       "<style scoped>\n",
       "    .dataframe tbody tr th:only-of-type {\n",
       "        vertical-align: middle;\n",
       "    }\n",
       "\n",
       "    .dataframe tbody tr th {\n",
       "        vertical-align: top;\n",
       "    }\n",
       "\n",
       "    .dataframe thead th {\n",
       "        text-align: right;\n",
       "    }\n",
       "</style>\n",
       "<table border=\"1\" class=\"dataframe\">\n",
       "  <thead>\n",
       "    <tr style=\"text-align: right;\">\n",
       "      <th></th>\n",
       "      <th>left_state</th>\n",
       "      <th>right_state</th>\n",
       "    </tr>\n",
       "  </thead>\n",
       "  <tbody>\n",
       "    <tr>\n",
       "      <th>count</th>\n",
       "      <td>6734.000000</td>\n",
       "      <td>6734.000000</td>\n",
       "    </tr>\n",
       "    <tr>\n",
       "      <th>mean</th>\n",
       "      <td>0.033858</td>\n",
       "      <td>0.225720</td>\n",
       "    </tr>\n",
       "    <tr>\n",
       "      <th>std</th>\n",
       "      <td>0.180877</td>\n",
       "      <td>0.418087</td>\n",
       "    </tr>\n",
       "    <tr>\n",
       "      <th>min</th>\n",
       "      <td>0.000000</td>\n",
       "      <td>0.000000</td>\n",
       "    </tr>\n",
       "    <tr>\n",
       "      <th>25%</th>\n",
       "      <td>0.000000</td>\n",
       "      <td>0.000000</td>\n",
       "    </tr>\n",
       "    <tr>\n",
       "      <th>50%</th>\n",
       "      <td>0.000000</td>\n",
       "      <td>0.000000</td>\n",
       "    </tr>\n",
       "    <tr>\n",
       "      <th>75%</th>\n",
       "      <td>0.000000</td>\n",
       "      <td>0.000000</td>\n",
       "    </tr>\n",
       "    <tr>\n",
       "      <th>max</th>\n",
       "      <td>1.000000</td>\n",
       "      <td>1.000000</td>\n",
       "    </tr>\n",
       "  </tbody>\n",
       "</table>\n",
       "</div>"
      ],
      "text/plain": [
       "        left_state  right_state\n",
       "count  6734.000000  6734.000000\n",
       "mean      0.033858     0.225720\n",
       "std       0.180877     0.418087\n",
       "min       0.000000     0.000000\n",
       "25%       0.000000     0.000000\n",
       "50%       0.000000     0.000000\n",
       "75%       0.000000     0.000000\n",
       "max       1.000000     1.000000"
      ]
     },
     "execution_count": 10,
     "metadata": {},
     "output_type": "execute_result"
    }
   ],
   "source": [
    "from sklearn.model_selection import train_test_split\n",
    "\n",
    "train_data, test_data = train_test_split(df, test_size=0.2,random_state=42, shuffle=True)\n",
    "# check train minotiry class\n",
    "train_data.describe()"
   ]
  },
  {
   "cell_type": "code",
   "execution_count": 11,
   "metadata": {},
   "outputs": [],
   "source": [
    "# Define features (X) and labels (Y) for training set\n",
    "X_train = train_data['frame_path']\n",
    "Y_train = train_data.drop('frame_path', axis=1)\n",
    "\n",
    "# Define features (X) and labels (Y) for testing set\n",
    "X_test = test_data['frame_path']\n",
    "Y_test = test_data.drop('frame_path', axis=1)"
   ]
  },
  {
   "cell_type": "code",
   "execution_count": 12,
   "metadata": {},
   "outputs": [],
   "source": [
    "X_train = np.stack(train_data['frame_path'])\n",
    "X_test = np.stack(test_data['frame_path'])"
   ]
  },
  {
   "cell_type": "code",
   "execution_count": 16,
   "metadata": {},
   "outputs": [],
   "source": [
    "import tensorflow as tf\n",
    "from tensorflow.keras.models import Sequential\n",
    "from tensorflow.keras.layers import Conv2D, MaxPooling2D, Dropout, Flatten, Dense\n",
    "\n",
    "# Define the model architecture\n",
    "model = Sequential([\n",
    "    Conv2D(32, (3, 3), activation='relu', input_shape=(X_train.shape[1:])),\n",
    "    MaxPooling2D(pool_size=(2, 2)),\n",
    "    Dropout(0.25),\n",
    "    \n",
    "    Conv2D(64, (3, 3), activation='relu'),\n",
    "    MaxPooling2D(pool_size=(2, 2)),\n",
    "    Dropout(0.25),\n",
    "\n",
    "    Conv2D(64, (3, 3), activation='relu'),\n",
    "    MaxPooling2D(pool_size=(2, 2)),\n",
    "    Dropout(0.25),\n",
    "\n",
    "    Flatten(),    # Flattening the 3D outputs of the previous layer\n",
    "\n",
    "    Dense(512, activation='relu'),\n",
    "    Dropout(0.5),\n",
    "\n",
    "    Dense(256, activation='relu'),\n",
    "    Dropout(0.5),\n",
    "\n",
    "\n",
    "    Dense(128, activation='relu'),\n",
    "    Dropout(0.5),\n",
    "\n",
    "    Dense(Y_train.shape[1], activation='sigmoid')   # number of output neurons equals to number of key states\n",
    "])\n",
    "\n"
   ]
  },
  {
   "cell_type": "code",
   "execution_count": 17,
   "metadata": {},
   "outputs": [
    {
     "name": "stdout",
     "output_type": "stream",
     "text": [
      "Model: \"sequential_1\"\n",
      "_________________________________________________________________\n",
      " Layer (type)                Output Shape              Param #   \n",
      "=================================================================\n",
      " conv2d_3 (Conv2D)           (None, 238, 318, 32)      896       \n",
      "                                                                 \n",
      " max_pooling2d_3 (MaxPooling  (None, 119, 159, 32)     0         \n",
      " 2D)                                                             \n",
      "                                                                 \n",
      " dropout_6 (Dropout)         (None, 119, 159, 32)      0         \n",
      "                                                                 \n",
      " conv2d_4 (Conv2D)           (None, 117, 157, 64)      18496     \n",
      "                                                                 \n",
      " max_pooling2d_4 (MaxPooling  (None, 58, 78, 64)       0         \n",
      " 2D)                                                             \n",
      "                                                                 \n",
      " dropout_7 (Dropout)         (None, 58, 78, 64)        0         \n",
      "                                                                 \n",
      " conv2d_5 (Conv2D)           (None, 56, 76, 64)        36928     \n",
      "                                                                 \n",
      " max_pooling2d_5 (MaxPooling  (None, 28, 38, 64)       0         \n",
      " 2D)                                                             \n",
      "                                                                 \n",
      " dropout_8 (Dropout)         (None, 28, 38, 64)        0         \n",
      "                                                                 \n",
      " flatten_1 (Flatten)         (None, 68096)             0         \n",
      "                                                                 \n",
      " dense_4 (Dense)             (None, 512)               34865664  \n",
      "                                                                 \n",
      " dropout_9 (Dropout)         (None, 512)               0         \n",
      "                                                                 \n",
      " dense_5 (Dense)             (None, 256)               131328    \n",
      "                                                                 \n",
      " dropout_10 (Dropout)        (None, 256)               0         \n",
      "                                                                 \n",
      " dense_6 (Dense)             (None, 128)               32896     \n",
      "                                                                 \n",
      " dropout_11 (Dropout)        (None, 128)               0         \n",
      "                                                                 \n",
      " dense_7 (Dense)             (None, 2)                 258       \n",
      "                                                                 \n",
      "=================================================================\n",
      "Total params: 35,086,466\n",
      "Trainable params: 35,086,466\n",
      "Non-trainable params: 0\n",
      "_________________________________________________________________\n"
     ]
    }
   ],
   "source": [
    "\n",
    "# Compile the model\n",
    "model.compile(optimizer='adam', \n",
    "              loss='binary_crossentropy',   # use binary_crossentropy for multi-label classification\n",
    "              metrics=['accuracy'])\n",
    "\n",
    "# Print a summary of the model's architecture\n",
    "model.summary()"
   ]
  },
  {
   "cell_type": "code",
   "execution_count": 18,
   "metadata": {},
   "outputs": [
    {
     "name": "stdout",
     "output_type": "stream",
     "text": [
      "Epoch 1/9\n",
      "337/337 [==============================] - 12s 32ms/step - loss: 0.3842 - accuracy: 0.2304 - val_loss: 0.3582 - val_accuracy: 0.2413\n",
      "Epoch 2/9\n",
      "337/337 [==============================] - 9s 27ms/step - loss: 0.3144 - accuracy: 0.3263 - val_loss: 0.2372 - val_accuracy: 0.5249\n",
      "Epoch 3/9\n",
      "337/337 [==============================] - 9s 27ms/step - loss: 0.2236 - accuracy: 0.5591 - val_loss: 0.1778 - val_accuracy: 0.5813\n",
      "Epoch 4/9\n",
      "337/337 [==============================] - 9s 26ms/step - loss: 0.1772 - accuracy: 0.6859 - val_loss: 0.1637 - val_accuracy: 0.8597\n",
      "Epoch 5/9\n",
      "337/337 [==============================] - 9s 27ms/step - loss: 0.1590 - accuracy: 0.7147 - val_loss: 0.1435 - val_accuracy: 0.8441\n",
      "Epoch 6/9\n",
      "337/337 [==============================] - 9s 26ms/step - loss: 0.1437 - accuracy: 0.7602 - val_loss: 0.1393 - val_accuracy: 0.8330\n",
      "Epoch 7/9\n",
      "337/337 [==============================] - 9s 26ms/step - loss: 0.1405 - accuracy: 0.7190 - val_loss: 0.1418 - val_accuracy: 0.8782\n",
      "Epoch 8/9\n",
      "337/337 [==============================] - 9s 26ms/step - loss: 0.1322 - accuracy: 0.7282 - val_loss: 0.1360 - val_accuracy: 0.7572\n",
      "Epoch 9/9\n",
      "337/337 [==============================] - 9s 26ms/step - loss: 0.1303 - accuracy: 0.7060 - val_loss: 0.1293 - val_accuracy: 0.8129\n"
     ]
    }
   ],
   "source": [
    "# Train the model\n",
    "history = model.fit(X_train, Y_train, epochs=9, batch_size=16, validation_split=0.2)"
   ]
  },
  {
   "cell_type": "code",
   "execution_count": 19,
   "metadata": {},
   "outputs": [],
   "source": [
    "model.save('model9.h5')"
   ]
  },
  {
   "cell_type": "code",
   "execution_count": 20,
   "metadata": {},
   "outputs": [
    {
     "name": "stdout",
     "output_type": "stream",
     "text": [
      "Test loss: 0.12906904518604279\n"
     ]
    }
   ],
   "source": [
    "# evaluate the model\n",
    "score = model.evaluate(X_test, Y_test, verbose=0)\n",
    "print('Test loss:', score[0])"
   ]
  },
  {
   "cell_type": "code",
   "execution_count": 21,
   "metadata": {},
   "outputs": [
    {
     "name": "stdout",
     "output_type": "stream",
     "text": [
      "Test accuracy: 0.8182897567749023\n"
     ]
    }
   ],
   "source": [
    "# calculate accuracy\n",
    "print('Test accuracy:', score[1])"
   ]
  },
  {
   "cell_type": "code",
   "execution_count": null,
   "metadata": {},
   "outputs": [],
   "source": [
    "model.predict(X_test)"
   ]
  }
 ],
 "metadata": {
  "kernelspec": {
   "display_name": "ai",
   "language": "python",
   "name": "python3"
  },
  "language_info": {
   "codemirror_mode": {
    "name": "ipython",
    "version": 3
   },
   "file_extension": ".py",
   "mimetype": "text/x-python",
   "name": "python",
   "nbconvert_exporter": "python",
   "pygments_lexer": "ipython3",
   "version": "3.9.16"
  },
  "orig_nbformat": 4
 },
 "nbformat": 4,
 "nbformat_minor": 2
}
