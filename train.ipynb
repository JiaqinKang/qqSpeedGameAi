{
 "cells": [
  {
   "cell_type": "code",
   "execution_count": 1,
   "metadata": {},
   "outputs": [],
   "source": [
    "import pandas as pd"
   ]
  },
  {
   "cell_type": "code",
   "execution_count": 2,
   "metadata": {},
   "outputs": [
    {
     "name": "stdout",
     "output_type": "stream",
     "text": [
      "           frame_path  q_state  q_timestamp  q_hold_duration  w_state   \n",
      "0  frames/frame_0.png        0          NaN              0.0        0  \\\n",
      "1  frames/frame_1.png        0          NaN              0.0        0   \n",
      "2  frames/frame_2.png        0          NaN              0.0        0   \n",
      "3  frames/frame_3.png        0          NaN              0.0        0   \n",
      "4  frames/frame_4.png        0          NaN              0.0        0   \n",
      "\n",
      "   w_timestamp  w_hold_duration  e_state  e_timestamp  e_hold_duration  ...   \n",
      "0          NaN              0.0        0          NaN              0.0  ...  \\\n",
      "1          NaN              0.0        0          NaN              0.0  ...   \n",
      "2          NaN              0.0        0          NaN              0.0  ...   \n",
      "3          NaN              0.0        0          NaN              0.0  ...   \n",
      "4          NaN              0.0        0          NaN              0.0  ...   \n",
      "\n",
      "   up_hold_duration  down_state  down_timestamp  down_hold_duration   \n",
      "0               0.0           0             NaN                 0.0  \\\n",
      "1               0.0           0             NaN                 0.0   \n",
      "2               0.0           0             NaN                 0.0   \n",
      "3               0.0           0             NaN                 0.0   \n",
      "4               0.0           0             NaN                 0.0   \n",
      "\n",
      "   left_state  left_timestamp  left_hold_duration  right_state   \n",
      "0           0             NaN                 0.0            0  \\\n",
      "1           0             NaN                 0.0            0   \n",
      "2           0             NaN                 0.0            0   \n",
      "3           0             NaN                 0.0            0   \n",
      "4           0             NaN                 0.0            0   \n",
      "\n",
      "   right_timestamp  right_hold_duration  \n",
      "0              NaN                  0.0  \n",
      "1              NaN                  0.0  \n",
      "2              NaN                  0.0  \n",
      "3              NaN                  0.0  \n",
      "4              NaN                  0.0  \n",
      "\n",
      "[5 rows x 25 columns]\n"
     ]
    }
   ],
   "source": [
    "df = pd.read_csv(\"dataset.csv\")\n",
    "# Display the first few rows of the DataFrame\n",
    "print(df.head())"
   ]
  },
  {
   "cell_type": "code",
   "execution_count": 3,
   "metadata": {},
   "outputs": [],
   "source": [
    "# Load the image data\n",
    "\n",
    "from PIL import Image\n",
    "import numpy as np\n",
    "df['frame_path'] = df['frame_path'].apply(lambda x: np.array(Image.open(x)))"
   ]
  },
  {
   "cell_type": "code",
   "execution_count": 4,
   "metadata": {},
   "outputs": [],
   "source": [
    "# normalize the image data\n",
    "df['frame_path'] = df['frame_path'].apply(lambda x: x/255)"
   ]
  },
  {
   "cell_type": "code",
   "execution_count": 5,
   "metadata": {},
   "outputs": [
    {
     "name": "stdout",
     "output_type": "stream",
     "text": [
      "                                          frame_path  q_state  w_state   \n",
      "0  [[[0.5098039215686274, 0.611764705882353, 0.68...        0        0  \\\n",
      "1  [[[0.5254901960784314, 0.615686274509804, 0.71...        0        0   \n",
      "2  [[[0.5254901960784314, 0.615686274509804, 0.71...        0        0   \n",
      "3  [[[0.5529411764705883, 0.6627450980392157, 0.7...        0        0   \n",
      "4  [[[0.5372549019607843, 0.6470588235294118, 0.7...        0        0   \n",
      "\n",
      "   e_state  r_state  up_state  down_state  left_state  right_state  \n",
      "0        0        0         0           0           0            0  \n",
      "1        0        0         0           0           0            0  \n",
      "2        0        0         0           0           0            0  \n",
      "3        0        0         0           0           0            0  \n",
      "4        0        0         0           0           0            0  \n"
     ]
    }
   ],
   "source": [
    "# Columns to be dropped\n",
    "drop_columns = ['q_timestamp', 'q_hold_duration',\n",
    "                'w_timestamp', 'w_hold_duration',\n",
    "                'e_timestamp', 'e_hold_duration',\n",
    "                'r_timestamp', 'r_hold_duration',\n",
    "                'up_timestamp', 'up_hold_duration',\n",
    "                'down_timestamp', 'down_hold_duration',\n",
    "                'left_timestamp', 'left_hold_duration',\n",
    "                'right_timestamp', 'right_hold_duration']\n",
    "\n",
    "# Drop the columns\n",
    "df = df.drop(columns=drop_columns)\n",
    "\n",
    "print(df.head())\n"
   ]
  },
  {
   "cell_type": "code",
   "execution_count": 6,
   "metadata": {},
   "outputs": [
    {
     "name": "stdout",
     "output_type": "stream",
     "text": [
      "                                           frame_path  q_state  w_state   \n",
      "70  [[[0.5333333333333333, 0.6431372549019608, 0.7...        0        0  \\\n",
      "71  [[[0.5333333333333333, 0.6431372549019608, 0.7...        0        0   \n",
      "72  [[[0.5333333333333333, 0.6431372549019608, 0.7...        0        0   \n",
      "73  [[[0.5333333333333333, 0.6431372549019608, 0.7...        0        0   \n",
      "74  [[[0.5333333333333333, 0.6431372549019608, 0.7...        0        0   \n",
      "\n",
      "    e_state  r_state  up_state  down_state  left_state  right_state  \n",
      "70        0        0         1           0           0            1  \n",
      "71        0        0         1           0           0            1  \n",
      "72        0        0         1           0           0            1  \n",
      "73        0        0         1           0           0            0  \n",
      "74        0        0         1           0           1            0  \n"
     ]
    }
   ],
   "source": [
    "# itterate through rows to check if no key state is 1 and drop the row\n",
    "for index, row in df.iterrows():\n",
    "    if row['q_state'] == 0 and row['w_state'] == 0 and row['e_state'] == 0 and row['r_state'] == 0 and row['up_state'] == 0 and row['down_state'] == 0 and row['left_state'] == 0 and row['right_state'] == 0:\n",
    "        df = df.drop(index)\n",
    "        \n",
    "print(df.head())"
   ]
  },
  {
   "cell_type": "code",
   "execution_count": 7,
   "metadata": {},
   "outputs": [
    {
     "data": {
      "text/html": [
       "<div>\n",
       "<style scoped>\n",
       "    .dataframe tbody tr th:only-of-type {\n",
       "        vertical-align: middle;\n",
       "    }\n",
       "\n",
       "    .dataframe tbody tr th {\n",
       "        vertical-align: top;\n",
       "    }\n",
       "\n",
       "    .dataframe thead th {\n",
       "        text-align: right;\n",
       "    }\n",
       "</style>\n",
       "<table border=\"1\" class=\"dataframe\">\n",
       "  <thead>\n",
       "    <tr style=\"text-align: right;\">\n",
       "      <th></th>\n",
       "      <th>q_state</th>\n",
       "      <th>w_state</th>\n",
       "      <th>e_state</th>\n",
       "      <th>r_state</th>\n",
       "      <th>up_state</th>\n",
       "      <th>down_state</th>\n",
       "      <th>left_state</th>\n",
       "      <th>right_state</th>\n",
       "    </tr>\n",
       "  </thead>\n",
       "  <tbody>\n",
       "    <tr>\n",
       "      <th>count</th>\n",
       "      <td>1993.000000</td>\n",
       "      <td>1993.0</td>\n",
       "      <td>1993.000000</td>\n",
       "      <td>1993.000000</td>\n",
       "      <td>1993.000000</td>\n",
       "      <td>1993.0</td>\n",
       "      <td>1993.000000</td>\n",
       "      <td>1993.000000</td>\n",
       "    </tr>\n",
       "    <tr>\n",
       "      <th>mean</th>\n",
       "      <td>0.153537</td>\n",
       "      <td>0.0</td>\n",
       "      <td>0.026593</td>\n",
       "      <td>0.000502</td>\n",
       "      <td>0.983442</td>\n",
       "      <td>0.0</td>\n",
       "      <td>0.182639</td>\n",
       "      <td>0.180632</td>\n",
       "    </tr>\n",
       "    <tr>\n",
       "      <th>std</th>\n",
       "      <td>0.360595</td>\n",
       "      <td>0.0</td>\n",
       "      <td>0.160931</td>\n",
       "      <td>0.022400</td>\n",
       "      <td>0.127640</td>\n",
       "      <td>0.0</td>\n",
       "      <td>0.386467</td>\n",
       "      <td>0.384810</td>\n",
       "    </tr>\n",
       "    <tr>\n",
       "      <th>min</th>\n",
       "      <td>0.000000</td>\n",
       "      <td>0.0</td>\n",
       "      <td>0.000000</td>\n",
       "      <td>0.000000</td>\n",
       "      <td>0.000000</td>\n",
       "      <td>0.0</td>\n",
       "      <td>0.000000</td>\n",
       "      <td>0.000000</td>\n",
       "    </tr>\n",
       "    <tr>\n",
       "      <th>25%</th>\n",
       "      <td>0.000000</td>\n",
       "      <td>0.0</td>\n",
       "      <td>0.000000</td>\n",
       "      <td>0.000000</td>\n",
       "      <td>1.000000</td>\n",
       "      <td>0.0</td>\n",
       "      <td>0.000000</td>\n",
       "      <td>0.000000</td>\n",
       "    </tr>\n",
       "    <tr>\n",
       "      <th>50%</th>\n",
       "      <td>0.000000</td>\n",
       "      <td>0.0</td>\n",
       "      <td>0.000000</td>\n",
       "      <td>0.000000</td>\n",
       "      <td>1.000000</td>\n",
       "      <td>0.0</td>\n",
       "      <td>0.000000</td>\n",
       "      <td>0.000000</td>\n",
       "    </tr>\n",
       "    <tr>\n",
       "      <th>75%</th>\n",
       "      <td>0.000000</td>\n",
       "      <td>0.0</td>\n",
       "      <td>0.000000</td>\n",
       "      <td>0.000000</td>\n",
       "      <td>1.000000</td>\n",
       "      <td>0.0</td>\n",
       "      <td>0.000000</td>\n",
       "      <td>0.000000</td>\n",
       "    </tr>\n",
       "    <tr>\n",
       "      <th>max</th>\n",
       "      <td>1.000000</td>\n",
       "      <td>0.0</td>\n",
       "      <td>1.000000</td>\n",
       "      <td>1.000000</td>\n",
       "      <td>1.000000</td>\n",
       "      <td>0.0</td>\n",
       "      <td>1.000000</td>\n",
       "      <td>1.000000</td>\n",
       "    </tr>\n",
       "  </tbody>\n",
       "</table>\n",
       "</div>"
      ],
      "text/plain": [
       "           q_state  w_state      e_state      r_state     up_state   \n",
       "count  1993.000000   1993.0  1993.000000  1993.000000  1993.000000  \\\n",
       "mean      0.153537      0.0     0.026593     0.000502     0.983442   \n",
       "std       0.360595      0.0     0.160931     0.022400     0.127640   \n",
       "min       0.000000      0.0     0.000000     0.000000     0.000000   \n",
       "25%       0.000000      0.0     0.000000     0.000000     1.000000   \n",
       "50%       0.000000      0.0     0.000000     0.000000     1.000000   \n",
       "75%       0.000000      0.0     0.000000     0.000000     1.000000   \n",
       "max       1.000000      0.0     1.000000     1.000000     1.000000   \n",
       "\n",
       "       down_state   left_state  right_state  \n",
       "count      1993.0  1993.000000  1993.000000  \n",
       "mean          0.0     0.182639     0.180632  \n",
       "std           0.0     0.386467     0.384810  \n",
       "min           0.0     0.000000     0.000000  \n",
       "25%           0.0     0.000000     0.000000  \n",
       "50%           0.0     0.000000     0.000000  \n",
       "75%           0.0     0.000000     0.000000  \n",
       "max           0.0     1.000000     1.000000  "
      ]
     },
     "execution_count": 7,
     "metadata": {},
     "output_type": "execute_result"
    }
   ],
   "source": [
    "df.describe()"
   ]
  },
  {
   "cell_type": "code",
   "execution_count": 8,
   "metadata": {},
   "outputs": [],
   "source": [
    "from sklearn.model_selection import train_test_split\n",
    "\n",
    "train_data, test_data = train_test_split(df, test_size=0.2, random_state=42)"
   ]
  },
  {
   "cell_type": "code",
   "execution_count": 9,
   "metadata": {},
   "outputs": [],
   "source": [
    "# Define features (X) and labels (Y) for training set\n",
    "X_train = train_data['frame_path']\n",
    "Y_train = train_data.drop('frame_path', axis=1)\n",
    "\n",
    "# Define features (X) and labels (Y) for testing set\n",
    "X_test = test_data['frame_path']\n",
    "Y_test = test_data.drop('frame_path', axis=1)"
   ]
  },
  {
   "cell_type": "code",
   "execution_count": 10,
   "metadata": {},
   "outputs": [],
   "source": [
    "X_train = np.stack(train_data['frame_path'])\n",
    "X_test = np.stack(test_data['frame_path'])"
   ]
  },
  {
   "cell_type": "code",
   "execution_count": 11,
   "metadata": {},
   "outputs": [],
   "source": [
    "import tensorflow as tf\n",
    "from tensorflow.keras.models import Sequential\n",
    "from tensorflow.keras.layers import Conv2D, MaxPooling2D, Dropout, Flatten, Dense\n",
    "\n",
    "# Define the model architecture\n",
    "model = Sequential([\n",
    "    Conv2D(32, (3, 3), activation='relu', input_shape=(X_train.shape[1:])),\n",
    "    MaxPooling2D(pool_size=(2, 2)),\n",
    "    Dropout(0.25),\n",
    "    \n",
    "    Conv2D(64, (3, 3), activation='relu'),\n",
    "    MaxPooling2D(pool_size=(2, 2)),\n",
    "    Dropout(0.25),\n",
    "    \n",
    "    Conv2D(128, (3, 3), activation='relu'),\n",
    "    MaxPooling2D(pool_size=(2, 2)),\n",
    "    Dropout(0.25),\n",
    "    \n",
    "    Flatten(),\n",
    "    Dense(512, activation='relu'),\n",
    "    Dropout(0.5),\n",
    "    Dense(Y_train.shape[1], activation='sigmoid')   # number of output neurons equals to number of key states\n",
    "])\n"
   ]
  },
  {
   "cell_type": "code",
   "execution_count": 12,
   "metadata": {},
   "outputs": [
    {
     "name": "stdout",
     "output_type": "stream",
     "text": [
      "Model: \"sequential\"\n",
      "_________________________________________________________________\n",
      " Layer (type)                Output Shape              Param #   \n",
      "=================================================================\n",
      " conv2d (Conv2D)             (None, 636, 814, 32)      896       \n",
      "                                                                 \n",
      " max_pooling2d (MaxPooling2D  (None, 318, 407, 32)     0         \n",
      " )                                                               \n",
      "                                                                 \n",
      " dropout (Dropout)           (None, 318, 407, 32)      0         \n",
      "                                                                 \n",
      " conv2d_1 (Conv2D)           (None, 316, 405, 64)      18496     \n",
      "                                                                 \n",
      " max_pooling2d_1 (MaxPooling  (None, 158, 202, 64)     0         \n",
      " 2D)                                                             \n",
      "                                                                 \n",
      " dropout_1 (Dropout)         (None, 158, 202, 64)      0         \n",
      "                                                                 \n",
      " conv2d_2 (Conv2D)           (None, 156, 200, 128)     73856     \n",
      "                                                                 \n",
      " max_pooling2d_2 (MaxPooling  (None, 78, 100, 128)     0         \n",
      " 2D)                                                             \n",
      "                                                                 \n",
      " dropout_2 (Dropout)         (None, 78, 100, 128)      0         \n",
      "                                                                 \n",
      " flatten (Flatten)           (None, 998400)            0         \n",
      "                                                                 \n",
      " dense (Dense)               (None, 512)               511181312 \n",
      "                                                                 \n",
      " dropout_3 (Dropout)         (None, 512)               0         \n",
      "                                                                 \n",
      " dense_1 (Dense)             (None, 8)                 4104      \n",
      "                                                                 \n",
      "=================================================================\n",
      "Total params: 511,278,664\n",
      "Trainable params: 511,278,664\n",
      "Non-trainable params: 0\n",
      "_________________________________________________________________\n"
     ]
    }
   ],
   "source": [
    "\n",
    "# Compile the model\n",
    "model.compile(optimizer='adam', \n",
    "              loss='binary_crossentropy',   # use binary_crossentropy for multi-label classification\n",
    "              metrics=['accuracy'])\n",
    "\n",
    "# Print a summary of the model's architecture\n",
    "model.summary()"
   ]
  },
  {
   "cell_type": "code",
   "execution_count": 13,
   "metadata": {},
   "outputs": [
    {
     "name": "stdout",
     "output_type": "stream",
     "text": [
      "Epoch 1/5\n",
      "1275/1275 [==============================] - 71s 50ms/step - loss: 0.2591 - accuracy: 0.8094 - val_loss: 0.1758 - val_accuracy: 0.8088\n",
      "Epoch 2/5\n",
      "1275/1275 [==============================] - 55s 43ms/step - loss: 0.1672 - accuracy: 0.8063 - val_loss: 0.1528 - val_accuracy: 0.8088\n",
      "Epoch 3/5\n",
      "1275/1275 [==============================] - 54s 43ms/step - loss: 0.1410 - accuracy: 0.8008 - val_loss: 0.1635 - val_accuracy: 0.8025\n",
      "Epoch 4/5\n",
      "1275/1275 [==============================] - 55s 43ms/step - loss: 0.1195 - accuracy: 0.8039 - val_loss: 0.1505 - val_accuracy: 0.7994\n",
      "Epoch 5/5\n",
      "1275/1275 [==============================] - 55s 43ms/step - loss: 0.0860 - accuracy: 0.8102 - val_loss: 0.1399 - val_accuracy: 0.8401\n"
     ]
    }
   ],
   "source": [
    "# Train the model\n",
    "history = model.fit(X_train, Y_train, validation_split=0.2, epochs=5, batch_size=1)"
   ]
  },
  {
   "cell_type": "code",
   "execution_count": 14,
   "metadata": {},
   "outputs": [],
   "source": [
    "# model.save('model.h5')"
   ]
  },
  {
   "cell_type": "code",
   "execution_count": 11,
   "metadata": {},
   "outputs": [],
   "source": [
    "import keras\n",
    "load_model = keras.models.load_model('model.h5')"
   ]
  },
  {
   "cell_type": "code",
   "execution_count": 13,
   "metadata": {},
   "outputs": [
    {
     "name": "stdout",
     "output_type": "stream",
     "text": [
      "13/13 [==============================] - 7s 120ms/step\n"
     ]
    }
   ],
   "source": [
    "# Predict on the test set\n",
    "predictions = load_model.predict(X_test)"
   ]
  },
  {
   "cell_type": "code",
   "execution_count": 14,
   "metadata": {},
   "outputs": [
    {
     "name": "stdout",
     "output_type": "stream",
     "text": [
      "[1.2958232e-02 1.2400840e-08 2.7755898e-04 5.8167950e-07 9.9930668e-01\n",
      " 1.9377302e-09 4.2076878e-02 8.5442655e-02]\n"
     ]
    }
   ],
   "source": [
    "print(predictions[0])"
   ]
  },
  {
   "cell_type": "code",
   "execution_count": 15,
   "metadata": {},
   "outputs": [
    {
     "name": "stdout",
     "output_type": "stream",
     "text": [
      "q_state        0\n",
      "w_state        0\n",
      "e_state        0\n",
      "r_state        0\n",
      "up_state       1\n",
      "down_state     0\n",
      "left_state     0\n",
      "right_state    0\n",
      "Name: 965, dtype: int64\n"
     ]
    }
   ],
   "source": [
    "print(Y_test.iloc[0])"
   ]
  }
 ],
 "metadata": {
  "kernelspec": {
   "display_name": "ai",
   "language": "python",
   "name": "python3"
  },
  "language_info": {
   "codemirror_mode": {
    "name": "ipython",
    "version": 3
   },
   "file_extension": ".py",
   "mimetype": "text/x-python",
   "name": "python",
   "nbconvert_exporter": "python",
   "pygments_lexer": "ipython3",
   "version": "3.9.16"
  },
  "orig_nbformat": 4
 },
 "nbformat": 4,
 "nbformat_minor": 2
}
