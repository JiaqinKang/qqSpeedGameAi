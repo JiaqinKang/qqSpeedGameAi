{
 "cells": [
  {
   "cell_type": "code",
   "execution_count": 1,
   "metadata": {},
   "outputs": [],
   "source": [
    "import pandas as pd"
   ]
  },
  {
   "cell_type": "code",
   "execution_count": 2,
   "metadata": {},
   "outputs": [
    {
     "name": "stdout",
     "output_type": "stream",
     "text": [
      "           frame_path  left_state  left_timestamp  left_hold_duration   \n",
      "0  frames/frame_0.jpg           0             NaN                 0.0  \\\n",
      "1  frames/frame_1.jpg           0             NaN                 0.0   \n",
      "2  frames/frame_2.jpg           0             NaN                 0.0   \n",
      "3  frames/frame_3.jpg           0             NaN                 0.0   \n",
      "4  frames/frame_4.jpg           0             NaN                 0.0   \n",
      "\n",
      "   right_state  right_timestamp  right_hold_duration  \n",
      "0            0              NaN                  0.0  \n",
      "1            0              NaN                  0.0  \n",
      "2            0              NaN                  0.0  \n",
      "3            0              NaN                  0.0  \n",
      "4            0              NaN                  0.0  \n"
     ]
    }
   ],
   "source": [
    "df = pd.read_csv(\"dataset.csv\")\n",
    "# Display the first few rows of the DataFrame\n",
    "print(df.head())"
   ]
  },
  {
   "cell_type": "code",
   "execution_count": 3,
   "metadata": {},
   "outputs": [],
   "source": [
    "# Load the image data\n",
    "\n",
    "from PIL import Image\n",
    "import numpy as np\n",
    "df['frame_path'] = df['frame_path'].apply(lambda x: np.array(Image.open(x)))"
   ]
  },
  {
   "cell_type": "code",
   "execution_count": 4,
   "metadata": {},
   "outputs": [],
   "source": [
    "# normalize the image data\n",
    "df['frame_path'] = df['frame_path'].apply(lambda x: x/255)"
   ]
  },
  {
   "cell_type": "code",
   "execution_count": 5,
   "metadata": {},
   "outputs": [
    {
     "name": "stdout",
     "output_type": "stream",
     "text": [
      "                                          frame_path  left_state  right_state\n",
      "0  [[[0.5333333333333333, 0.7137254901960784, 0.8...           0            0\n",
      "1  [[[0.6509803921568628, 0.7764705882352941, 0.8...           0            0\n",
      "2  [[[0.6509803921568628, 0.7764705882352941, 0.8...           0            0\n",
      "3  [[[0.5647058823529412, 0.6823529411764706, 0.7...           0            0\n",
      "4  [[[0.5607843137254902, 0.6823529411764706, 0.7...           0            0\n"
     ]
    }
   ],
   "source": [
    "# Columns to be dropped\n",
    "drop_columns = [\n",
    "                'left_timestamp', 'left_hold_duration',\n",
    "                'right_timestamp', 'right_hold_duration']\n",
    "\n",
    "# Drop the columns\n",
    "df = df.drop(columns=drop_columns)\n",
    "\n",
    "print(df.head())\n"
   ]
  },
  {
   "cell_type": "code",
   "execution_count": 6,
   "metadata": {},
   "outputs": [
    {
     "name": "stdout",
     "output_type": "stream",
     "text": [
      "                                          frame_path  left_state  right_state   \n",
      "0  [[[0.5333333333333333, 0.7137254901960784, 0.8...           0            0  \\\n",
      "1  [[[0.6509803921568628, 0.7764705882352941, 0.8...           0            0   \n",
      "2  [[[0.6509803921568628, 0.7764705882352941, 0.8...           0            0   \n",
      "3  [[[0.5647058823529412, 0.6823529411764706, 0.7...           0            0   \n",
      "4  [[[0.5607843137254902, 0.6823529411764706, 0.7...           0            0   \n",
      "\n",
      "   empty_state  \n",
      "0            1  \n",
      "1            1  \n",
      "2            1  \n",
      "3            1  \n",
      "4            1  \n"
     ]
    }
   ],
   "source": [
    "# Create a new column 'empty_state' initialized with zeros\n",
    "df['empty_state'] = 0\n",
    "\n",
    "# Iterate through rows\n",
    "for i in range(len(df)):\n",
    "    # If 'left' and 'right' are the same\n",
    "    if df.loc[i, 'left_state'] == df.loc[i, 'right_state']:\n",
    "        # Replace 'left' and 'right' with 0\n",
    "        df.loc[i, 'left_state'] = 0\n",
    "        df.loc[i, 'left_state'] = 0\n",
    "        # Assign 'empty_state' to 1\n",
    "        df.loc[i, 'empty_state'] = 1\n",
    "    \n",
    "    # else assign 'empty_state' to 0\n",
    "    else:\n",
    "        df.loc[i, 'empty_state'] = 0\n",
    "\n",
    "# Display the first few rows of the DataFrame\n",
    "print(df.head())"
   ]
  },
  {
   "cell_type": "code",
   "execution_count": 7,
   "metadata": {},
   "outputs": [
    {
     "data": {
      "text/html": [
       "<div>\n",
       "<style scoped>\n",
       "    .dataframe tbody tr th:only-of-type {\n",
       "        vertical-align: middle;\n",
       "    }\n",
       "\n",
       "    .dataframe tbody tr th {\n",
       "        vertical-align: top;\n",
       "    }\n",
       "\n",
       "    .dataframe thead th {\n",
       "        text-align: right;\n",
       "    }\n",
       "</style>\n",
       "<table border=\"1\" class=\"dataframe\">\n",
       "  <thead>\n",
       "    <tr style=\"text-align: right;\">\n",
       "      <th></th>\n",
       "      <th>left_state</th>\n",
       "      <th>right_state</th>\n",
       "      <th>empty_state</th>\n",
       "    </tr>\n",
       "  </thead>\n",
       "  <tbody>\n",
       "    <tr>\n",
       "      <th>count</th>\n",
       "      <td>6480.000000</td>\n",
       "      <td>6480.000000</td>\n",
       "      <td>6480.000000</td>\n",
       "    </tr>\n",
       "    <tr>\n",
       "      <th>mean</th>\n",
       "      <td>0.029630</td>\n",
       "      <td>0.179630</td>\n",
       "      <td>0.790741</td>\n",
       "    </tr>\n",
       "    <tr>\n",
       "      <th>std</th>\n",
       "      <td>0.169576</td>\n",
       "      <td>0.383908</td>\n",
       "      <td>0.406811</td>\n",
       "    </tr>\n",
       "    <tr>\n",
       "      <th>min</th>\n",
       "      <td>0.000000</td>\n",
       "      <td>0.000000</td>\n",
       "      <td>0.000000</td>\n",
       "    </tr>\n",
       "    <tr>\n",
       "      <th>25%</th>\n",
       "      <td>0.000000</td>\n",
       "      <td>0.000000</td>\n",
       "      <td>1.000000</td>\n",
       "    </tr>\n",
       "    <tr>\n",
       "      <th>50%</th>\n",
       "      <td>0.000000</td>\n",
       "      <td>0.000000</td>\n",
       "      <td>1.000000</td>\n",
       "    </tr>\n",
       "    <tr>\n",
       "      <th>75%</th>\n",
       "      <td>0.000000</td>\n",
       "      <td>0.000000</td>\n",
       "      <td>1.000000</td>\n",
       "    </tr>\n",
       "    <tr>\n",
       "      <th>max</th>\n",
       "      <td>1.000000</td>\n",
       "      <td>1.000000</td>\n",
       "      <td>1.000000</td>\n",
       "    </tr>\n",
       "  </tbody>\n",
       "</table>\n",
       "</div>"
      ],
      "text/plain": [
       "        left_state  right_state  empty_state\n",
       "count  6480.000000  6480.000000  6480.000000\n",
       "mean      0.029630     0.179630     0.790741\n",
       "std       0.169576     0.383908     0.406811\n",
       "min       0.000000     0.000000     0.000000\n",
       "25%       0.000000     0.000000     1.000000\n",
       "50%       0.000000     0.000000     1.000000\n",
       "75%       0.000000     0.000000     1.000000\n",
       "max       1.000000     1.000000     1.000000"
      ]
     },
     "execution_count": 7,
     "metadata": {},
     "output_type": "execute_result"
    }
   ],
   "source": [
    "df.describe()"
   ]
  },
  {
   "cell_type": "code",
   "execution_count": 8,
   "metadata": {},
   "outputs": [],
   "source": [
    "from sklearn.model_selection import train_test_split\n",
    "\n",
    "train_data, test_data = train_test_split(df, test_size=0.2, random_state=42)"
   ]
  },
  {
   "cell_type": "code",
   "execution_count": 9,
   "metadata": {},
   "outputs": [],
   "source": [
    "# Define features (X) and labels (Y) for training set\n",
    "X_train = train_data['frame_path']\n",
    "Y_train = train_data.drop('frame_path', axis=1)\n",
    "\n",
    "# Define features (X) and labels (Y) for testing set\n",
    "X_test = test_data['frame_path']\n",
    "Y_test = test_data.drop('frame_path', axis=1)"
   ]
  },
  {
   "cell_type": "code",
   "execution_count": 10,
   "metadata": {},
   "outputs": [],
   "source": [
    "X_train = np.stack(train_data['frame_path'])\n",
    "X_test = np.stack(test_data['frame_path'])"
   ]
  },
  {
   "cell_type": "code",
   "execution_count": 11,
   "metadata": {},
   "outputs": [],
   "source": [
    "import tensorflow as tf\n",
    "from tensorflow.keras.models import Sequential\n",
    "from tensorflow.keras.layers import Conv2D, MaxPooling2D, Dropout, Flatten, Dense\n",
    "\n",
    "# Define the model architecture\n",
    "model = Sequential([\n",
    "    Conv2D(32, (3, 3), activation='relu', input_shape=(X_train.shape[1:])),\n",
    "    MaxPooling2D(pool_size=(2, 2)),\n",
    "    Dropout(0.25),\n",
    "    \n",
    "    Conv2D(64, (3, 3), activation='relu'),\n",
    "    MaxPooling2D(pool_size=(2, 2)),\n",
    "    Dropout(0.25),\n",
    "    \n",
    "    Conv2D(128, (3, 3), activation='relu'),\n",
    "    MaxPooling2D(pool_size=(2, 2)),\n",
    "    Dropout(0.25),\n",
    "\n",
    "    Flatten(),    # Flattening the 3D outputs of the previous layer\n",
    "    \n",
    "    Dense(512, activation='relu'),\n",
    "    Dropout(0.5),\n",
    "\n",
    "    Dense (256, activation='relu'),\n",
    "    Dropout(0.5),\n",
    "    \n",
    "    Dense (256, activation='relu'),\n",
    "    Dropout(0.5),\n",
    "\n",
    "    Dense(Y_train.shape[1], activation='sigmoid')   # number of output neurons equals to number of key states\n",
    "])\n",
    "\n"
   ]
  },
  {
   "cell_type": "code",
   "execution_count": 12,
   "metadata": {},
   "outputs": [
    {
     "name": "stdout",
     "output_type": "stream",
     "text": [
      "Model: \"sequential\"\n",
      "_________________________________________________________________\n",
      " Layer (type)                Output Shape              Param #   \n",
      "=================================================================\n",
      " conv2d (Conv2D)             (None, 238, 318, 32)      896       \n",
      "                                                                 \n",
      " max_pooling2d (MaxPooling2D  (None, 119, 159, 32)     0         \n",
      " )                                                               \n",
      "                                                                 \n",
      " dropout (Dropout)           (None, 119, 159, 32)      0         \n",
      "                                                                 \n",
      " conv2d_1 (Conv2D)           (None, 117, 157, 64)      18496     \n",
      "                                                                 \n",
      " max_pooling2d_1 (MaxPooling  (None, 58, 78, 64)       0         \n",
      " 2D)                                                             \n",
      "                                                                 \n",
      " dropout_1 (Dropout)         (None, 58, 78, 64)        0         \n",
      "                                                                 \n",
      " conv2d_2 (Conv2D)           (None, 56, 76, 128)       73856     \n",
      "                                                                 \n",
      " max_pooling2d_2 (MaxPooling  (None, 28, 38, 128)      0         \n",
      " 2D)                                                             \n",
      "                                                                 \n",
      " dropout_2 (Dropout)         (None, 28, 38, 128)       0         \n",
      "                                                                 \n",
      " flatten (Flatten)           (None, 136192)            0         \n",
      "                                                                 \n",
      " dense (Dense)               (None, 512)               69730816  \n",
      "                                                                 \n",
      " dropout_3 (Dropout)         (None, 512)               0         \n",
      "                                                                 \n",
      " dense_1 (Dense)             (None, 256)               131328    \n",
      "                                                                 \n",
      " dropout_4 (Dropout)         (None, 256)               0         \n",
      "                                                                 \n",
      " dense_2 (Dense)             (None, 256)               65792     \n",
      "                                                                 \n",
      " dropout_5 (Dropout)         (None, 256)               0         \n",
      "                                                                 \n",
      " dense_3 (Dense)             (None, 3)                 771       \n",
      "                                                                 \n",
      "=================================================================\n",
      "Total params: 70,021,955\n",
      "Trainable params: 70,021,955\n",
      "Non-trainable params: 0\n",
      "_________________________________________________________________\n"
     ]
    }
   ],
   "source": [
    "\n",
    "# Compile the model\n",
    "model.compile(optimizer='adam', \n",
    "              loss='binary_crossentropy',   # use binary_crossentropy for multi-label classification\n",
    "              metrics=['accuracy'])\n",
    "\n",
    "# Print a summary of the model's architecture\n",
    "model.summary()"
   ]
  },
  {
   "cell_type": "code",
   "execution_count": 13,
   "metadata": {},
   "outputs": [
    {
     "name": "stdout",
     "output_type": "stream",
     "text": [
      "Epoch 1/20\n",
      "260/260 [==============================] - 16s 38ms/step - loss: 0.4296 - accuracy: 0.7900 - val_loss: 0.3651 - val_accuracy: 0.8100\n",
      "Epoch 2/20\n",
      "260/260 [==============================] - 8s 32ms/step - loss: 0.3439 - accuracy: 0.7921 - val_loss: 0.2772 - val_accuracy: 0.8100\n",
      "Epoch 3/20\n",
      "260/260 [==============================] - 8s 32ms/step - loss: 0.2795 - accuracy: 0.8387 - val_loss: 0.2262 - val_accuracy: 0.8843\n",
      "Epoch 4/20\n",
      "260/260 [==============================] - 9s 33ms/step - loss: 0.2502 - accuracy: 0.8597 - val_loss: 0.2037 - val_accuracy: 0.8920\n",
      "Epoch 5/20\n",
      "260/260 [==============================] - 8s 32ms/step - loss: 0.2434 - accuracy: 0.8707 - val_loss: 0.1862 - val_accuracy: 0.9007\n",
      "Epoch 6/20\n",
      "260/260 [==============================] - 8s 32ms/step - loss: 0.2224 - accuracy: 0.8826 - val_loss: 0.2122 - val_accuracy: 0.8997\n",
      "Epoch 7/20\n",
      "260/260 [==============================] - 8s 32ms/step - loss: 0.2035 - accuracy: 0.8963 - val_loss: 0.1610 - val_accuracy: 0.9190\n",
      "Epoch 8/20\n",
      "260/260 [==============================] - 8s 32ms/step - loss: 0.1985 - accuracy: 0.8985 - val_loss: 0.1632 - val_accuracy: 0.9219\n",
      "Epoch 9/20\n",
      "260/260 [==============================] - 8s 32ms/step - loss: 0.1830 - accuracy: 0.9062 - val_loss: 0.1731 - val_accuracy: 0.9122\n",
      "Epoch 10/20\n",
      "260/260 [==============================] - 8s 32ms/step - loss: 0.1743 - accuracy: 0.9161 - val_loss: 0.1526 - val_accuracy: 0.9219\n",
      "Epoch 11/20\n",
      "260/260 [==============================] - 8s 32ms/step - loss: 0.1694 - accuracy: 0.9168 - val_loss: 0.1758 - val_accuracy: 0.9180\n",
      "Epoch 12/20\n",
      "260/260 [==============================] - 8s 32ms/step - loss: 0.1594 - accuracy: 0.9209 - val_loss: 0.1475 - val_accuracy: 0.9364\n",
      "Epoch 13/20\n",
      "260/260 [==============================] - 8s 32ms/step - loss: 0.1518 - accuracy: 0.9248 - val_loss: 0.1415 - val_accuracy: 0.9335\n",
      "Epoch 14/20\n",
      "260/260 [==============================] - 8s 31ms/step - loss: 0.1544 - accuracy: 0.9207 - val_loss: 0.1594 - val_accuracy: 0.9383\n",
      "Epoch 15/20\n",
      "260/260 [==============================] - 8s 32ms/step - loss: 0.1450 - accuracy: 0.9281 - val_loss: 0.1612 - val_accuracy: 0.9315\n",
      "Epoch 16/20\n",
      "260/260 [==============================] - 8s 32ms/step - loss: 0.1339 - accuracy: 0.9351 - val_loss: 0.1512 - val_accuracy: 0.9335\n",
      "Epoch 17/20\n",
      "260/260 [==============================] - 8s 31ms/step - loss: 0.1274 - accuracy: 0.9347 - val_loss: 0.1510 - val_accuracy: 0.9325\n",
      "Epoch 18/20\n",
      "260/260 [==============================] - 8s 32ms/step - loss: 0.1193 - accuracy: 0.9388 - val_loss: 0.1549 - val_accuracy: 0.9315\n",
      "Epoch 19/20\n",
      "260/260 [==============================] - 8s 32ms/step - loss: 0.1175 - accuracy: 0.9373 - val_loss: 0.1482 - val_accuracy: 0.9402\n",
      "Epoch 20/20\n",
      "260/260 [==============================] - 8s 31ms/step - loss: 0.1079 - accuracy: 0.9416 - val_loss: 0.1558 - val_accuracy: 0.9267\n"
     ]
    }
   ],
   "source": [
    "# Train the model\n",
    "history = model.fit(X_train, Y_train, validation_split=0.2, epochs=20, batch_size=16)"
   ]
  },
  {
   "cell_type": "code",
   "execution_count": 15,
   "metadata": {},
   "outputs": [
    {
     "name": "stdout",
     "output_type": "stream",
     "text": [
      "Test loss: 0.16282932460308075\n"
     ]
    }
   ],
   "source": [
    "# evaluate the model\n",
    "score = model.evaluate(X_test, Y_test, verbose=0)\n",
    "print('Test loss:', score[0])"
   ]
  },
  {
   "cell_type": "code",
   "execution_count": 16,
   "metadata": {},
   "outputs": [
    {
     "name": "stdout",
     "output_type": "stream",
     "text": [
      "Test accuracy: 0.9182098507881165\n"
     ]
    }
   ],
   "source": [
    "# calculate accuracy\n",
    "print('Test accuracy:', score[1])"
   ]
  },
  {
   "cell_type": "code",
   "execution_count": 14,
   "metadata": {},
   "outputs": [],
   "source": [
    "model.save('model2.h5')"
   ]
  }
 ],
 "metadata": {
  "kernelspec": {
   "display_name": "ai",
   "language": "python",
   "name": "python3"
  },
  "language_info": {
   "codemirror_mode": {
    "name": "ipython",
    "version": 3
   },
   "file_extension": ".py",
   "mimetype": "text/x-python",
   "name": "python",
   "nbconvert_exporter": "python",
   "pygments_lexer": "ipython3",
   "version": "3.9.16"
  },
  "orig_nbformat": 4
 },
 "nbformat": 4,
 "nbformat_minor": 2
}
