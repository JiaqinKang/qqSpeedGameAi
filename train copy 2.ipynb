{
 "cells": [
  {
   "cell_type": "code",
   "execution_count": 1,
   "metadata": {},
   "outputs": [],
   "source": [
    "import pandas as pd"
   ]
  },
  {
   "cell_type": "code",
   "execution_count": 2,
   "metadata": {},
   "outputs": [
    {
     "name": "stdout",
     "output_type": "stream",
     "text": [
      "           frame_path  left_state  left_hold_duration  right_state   \n",
      "0  frames/frame_0.jpg           0                 0.0            0  \\\n",
      "1  frames/frame_1.jpg           0                 0.0            0   \n",
      "2  frames/frame_2.jpg           0                 0.0            0   \n",
      "3  frames/frame_3.jpg           0                 0.0            0   \n",
      "4  frames/frame_4.jpg           0                 0.0            0   \n",
      "\n",
      "   right_hold_duration  \n",
      "0                  0.0  \n",
      "1                  0.0  \n",
      "2                  0.0  \n",
      "3                  0.0  \n",
      "4                  0.0  \n"
     ]
    }
   ],
   "source": [
    "df = pd.read_csv(\"dataset.csv\")\n",
    "# Display the first few rows of the DataFrame\n",
    "print(df.head())"
   ]
  },
  {
   "cell_type": "code",
   "execution_count": 3,
   "metadata": {},
   "outputs": [],
   "source": [
    "# Load the image data\n",
    "\n",
    "from PIL import Image\n",
    "import numpy as np\n",
    "df['frame_path'] = df['frame_path'].apply(lambda x: np.array(Image.open(x)))"
   ]
  },
  {
   "cell_type": "code",
   "execution_count": 4,
   "metadata": {},
   "outputs": [],
   "source": [
    "# normalize the image data\n",
    "df['frame_path'] = df['frame_path'].apply(lambda x: x/255)"
   ]
  },
  {
   "cell_type": "code",
   "execution_count": 6,
   "metadata": {},
   "outputs": [
    {
     "name": "stdout",
     "output_type": "stream",
     "text": [
      "                                          frame_path  left_state  right_state\n",
      "0  [[[0.9215686274509803, 0.9176470588235294, 0.9...           0            0\n",
      "1  [[[0.2, 0.5764705882352941, 0.7647058823529411...           0            0\n",
      "2  [[[0.9686274509803922, 0.9450980392156862, 0.9...           0            0\n",
      "3  [[[0.0392156862745098, 0.03529411764705882, 0....           0            0\n",
      "4  [[[0.9294117647058824, 0.9254901960784314, 0.9...           0            0\n"
     ]
    }
   ],
   "source": [
    "# Columns to be dropped\n",
    "drop_columns = [\n",
    "                'left_hold_duration',\n",
    "                'right_hold_duration']\n",
    "\n",
    "# Drop the columns\n",
    "df = df.drop(columns=drop_columns)\n",
    "\n",
    "print(df.head())\n"
   ]
  },
  {
   "cell_type": "code",
   "execution_count": 7,
   "metadata": {},
   "outputs": [
    {
     "name": "stdout",
     "output_type": "stream",
     "text": [
      "                                          frame_path  left_state  right_state   \n",
      "0  [[[0.9215686274509803, 0.9176470588235294, 0.9...           0            0  \\\n",
      "1  [[[0.2, 0.5764705882352941, 0.7647058823529411...           0            0   \n",
      "2  [[[0.9686274509803922, 0.9450980392156862, 0.9...           0            0   \n",
      "3  [[[0.0392156862745098, 0.03529411764705882, 0....           0            0   \n",
      "4  [[[0.9294117647058824, 0.9254901960784314, 0.9...           0            0   \n",
      "\n",
      "   empty_state  \n",
      "0            1  \n",
      "1            1  \n",
      "2            1  \n",
      "3            1  \n",
      "4            1  \n"
     ]
    }
   ],
   "source": [
    "# Create a new column 'empty_state' initialized with zeros\n",
    "df['empty_state'] = 0\n",
    "\n",
    "# Iterate through rows\n",
    "for i in range(len(df)):\n",
    "    # If 'left' and 'right' are the same\n",
    "    if df.loc[i, 'left_state'] == df.loc[i, 'right_state']:\n",
    "        # Replace 'left' and 'right' with 0\n",
    "        df.loc[i, 'left_state'] = 0\n",
    "        df.loc[i, 'left_state'] = 0\n",
    "        # Assign 'empty_state' to 1\n",
    "        df.loc[i, 'empty_state'] = 1\n",
    "    \n",
    "    # else assign 'empty_state' to 0\n",
    "    else:\n",
    "        df.loc[i, 'empty_state'] = 0\n",
    "\n",
    "# Display the first few rows of the DataFrame\n",
    "print(df.head())"
   ]
  },
  {
   "cell_type": "code",
   "execution_count": 8,
   "metadata": {},
   "outputs": [
    {
     "data": {
      "text/html": [
       "<div>\n",
       "<style scoped>\n",
       "    .dataframe tbody tr th:only-of-type {\n",
       "        vertical-align: middle;\n",
       "    }\n",
       "\n",
       "    .dataframe tbody tr th {\n",
       "        vertical-align: top;\n",
       "    }\n",
       "\n",
       "    .dataframe thead th {\n",
       "        text-align: right;\n",
       "    }\n",
       "</style>\n",
       "<table border=\"1\" class=\"dataframe\">\n",
       "  <thead>\n",
       "    <tr style=\"text-align: right;\">\n",
       "      <th></th>\n",
       "      <th>left_state</th>\n",
       "      <th>right_state</th>\n",
       "      <th>empty_state</th>\n",
       "    </tr>\n",
       "  </thead>\n",
       "  <tbody>\n",
       "    <tr>\n",
       "      <th>count</th>\n",
       "      <td>10263.000000</td>\n",
       "      <td>10263.000000</td>\n",
       "      <td>10263.000000</td>\n",
       "    </tr>\n",
       "    <tr>\n",
       "      <th>mean</th>\n",
       "      <td>0.110104</td>\n",
       "      <td>0.247978</td>\n",
       "      <td>0.641918</td>\n",
       "    </tr>\n",
       "    <tr>\n",
       "      <th>std</th>\n",
       "      <td>0.313035</td>\n",
       "      <td>0.431860</td>\n",
       "      <td>0.479460</td>\n",
       "    </tr>\n",
       "    <tr>\n",
       "      <th>min</th>\n",
       "      <td>0.000000</td>\n",
       "      <td>0.000000</td>\n",
       "      <td>0.000000</td>\n",
       "    </tr>\n",
       "    <tr>\n",
       "      <th>25%</th>\n",
       "      <td>0.000000</td>\n",
       "      <td>0.000000</td>\n",
       "      <td>0.000000</td>\n",
       "    </tr>\n",
       "    <tr>\n",
       "      <th>50%</th>\n",
       "      <td>0.000000</td>\n",
       "      <td>0.000000</td>\n",
       "      <td>1.000000</td>\n",
       "    </tr>\n",
       "    <tr>\n",
       "      <th>75%</th>\n",
       "      <td>0.000000</td>\n",
       "      <td>0.000000</td>\n",
       "      <td>1.000000</td>\n",
       "    </tr>\n",
       "    <tr>\n",
       "      <th>max</th>\n",
       "      <td>1.000000</td>\n",
       "      <td>1.000000</td>\n",
       "      <td>1.000000</td>\n",
       "    </tr>\n",
       "  </tbody>\n",
       "</table>\n",
       "</div>"
      ],
      "text/plain": [
       "         left_state   right_state   empty_state\n",
       "count  10263.000000  10263.000000  10263.000000\n",
       "mean       0.110104      0.247978      0.641918\n",
       "std        0.313035      0.431860      0.479460\n",
       "min        0.000000      0.000000      0.000000\n",
       "25%        0.000000      0.000000      0.000000\n",
       "50%        0.000000      0.000000      1.000000\n",
       "75%        0.000000      0.000000      1.000000\n",
       "max        1.000000      1.000000      1.000000"
      ]
     },
     "execution_count": 8,
     "metadata": {},
     "output_type": "execute_result"
    }
   ],
   "source": [
    "df.describe()"
   ]
  },
  {
   "cell_type": "code",
   "execution_count": 9,
   "metadata": {},
   "outputs": [],
   "source": [
    "from sklearn.model_selection import train_test_split\n",
    "\n",
    "train_data, test_data = train_test_split(df, test_size=0.2, random_state=42)"
   ]
  },
  {
   "cell_type": "code",
   "execution_count": 10,
   "metadata": {},
   "outputs": [],
   "source": [
    "# Define features (X) and labels (Y) for training set\n",
    "X_train = train_data['frame_path']\n",
    "Y_train = train_data.drop('frame_path', axis=1)\n",
    "\n",
    "# Define features (X) and labels (Y) for testing set\n",
    "X_test = test_data['frame_path']\n",
    "Y_test = test_data.drop('frame_path', axis=1)"
   ]
  },
  {
   "cell_type": "code",
   "execution_count": 11,
   "metadata": {},
   "outputs": [],
   "source": [
    "X_train = np.stack(train_data['frame_path'])\n",
    "X_test = np.stack(test_data['frame_path'])"
   ]
  },
  {
   "cell_type": "code",
   "execution_count": 12,
   "metadata": {},
   "outputs": [],
   "source": [
    "import tensorflow as tf\n",
    "from tensorflow.keras.models import Sequential\n",
    "from tensorflow.keras.layers import Conv2D, MaxPooling2D, Dropout, Flatten, Dense\n",
    "\n",
    "# Define the model architecture\n",
    "model = Sequential([\n",
    "    Conv2D(32, (3, 3), activation='relu', input_shape=(X_train.shape[1:])),\n",
    "    MaxPooling2D(pool_size=(2, 2)),\n",
    "    Dropout(0.25),\n",
    "    \n",
    "    Conv2D(64, (3, 3), activation='relu'),\n",
    "    MaxPooling2D(pool_size=(2, 2)),\n",
    "    Dropout(0.25),\n",
    "    \n",
    "    Conv2D(128, (3, 3), activation='relu'),\n",
    "    MaxPooling2D(pool_size=(2, 2)),\n",
    "    Dropout(0.25),\n",
    "\n",
    "    Flatten(),    # Flattening the 3D outputs of the previous layer\n",
    "    \n",
    "    Dense(512, activation='relu'),\n",
    "    Dropout(0.5),\n",
    "\n",
    "    Dense (256, activation='relu'),\n",
    "    Dropout(0.5),\n",
    "    \n",
    "    Dense (256, activation='relu'),\n",
    "    Dropout(0.5),\n",
    "\n",
    "    Dense(Y_train.shape[1], activation='sigmoid')   # number of output neurons equals to number of key states\n",
    "])\n",
    "\n"
   ]
  },
  {
   "cell_type": "code",
   "execution_count": 13,
   "metadata": {},
   "outputs": [
    {
     "name": "stdout",
     "output_type": "stream",
     "text": [
      "Model: \"sequential\"\n",
      "_________________________________________________________________\n",
      " Layer (type)                Output Shape              Param #   \n",
      "=================================================================\n",
      " conv2d (Conv2D)             (None, 238, 318, 32)      896       \n",
      "                                                                 \n",
      " max_pooling2d (MaxPooling2D  (None, 119, 159, 32)     0         \n",
      " )                                                               \n",
      "                                                                 \n",
      " dropout (Dropout)           (None, 119, 159, 32)      0         \n",
      "                                                                 \n",
      " conv2d_1 (Conv2D)           (None, 117, 157, 64)      18496     \n",
      "                                                                 \n",
      " max_pooling2d_1 (MaxPooling  (None, 58, 78, 64)       0         \n",
      " 2D)                                                             \n",
      "                                                                 \n",
      " dropout_1 (Dropout)         (None, 58, 78, 64)        0         \n",
      "                                                                 \n",
      " conv2d_2 (Conv2D)           (None, 56, 76, 128)       73856     \n",
      "                                                                 \n",
      " max_pooling2d_2 (MaxPooling  (None, 28, 38, 128)      0         \n",
      " 2D)                                                             \n",
      "                                                                 \n",
      " dropout_2 (Dropout)         (None, 28, 38, 128)       0         \n",
      "                                                                 \n",
      " flatten (Flatten)           (None, 136192)            0         \n",
      "                                                                 \n",
      " dense (Dense)               (None, 512)               69730816  \n",
      "                                                                 \n",
      " dropout_3 (Dropout)         (None, 512)               0         \n",
      "                                                                 \n",
      " dense_1 (Dense)             (None, 256)               131328    \n",
      "                                                                 \n",
      " dropout_4 (Dropout)         (None, 256)               0         \n",
      "                                                                 \n",
      " dense_2 (Dense)             (None, 256)               65792     \n",
      "                                                                 \n",
      " dropout_5 (Dropout)         (None, 256)               0         \n",
      "                                                                 \n",
      " dense_3 (Dense)             (None, 3)                 771       \n",
      "                                                                 \n",
      "=================================================================\n",
      "Total params: 70,021,955\n",
      "Trainable params: 70,021,955\n",
      "Non-trainable params: 0\n",
      "_________________________________________________________________\n"
     ]
    }
   ],
   "source": [
    "\n",
    "# Compile the model\n",
    "model.compile(optimizer='adam', \n",
    "              loss='binary_crossentropy',   # use binary_crossentropy for multi-label classification\n",
    "              metrics=['accuracy'])\n",
    "\n",
    "# Print a summary of the model's architecture\n",
    "model.summary()"
   ]
  },
  {
   "cell_type": "code",
   "execution_count": 14,
   "metadata": {},
   "outputs": [
    {
     "name": "stdout",
     "output_type": "stream",
     "text": [
      "Epoch 1/20\n",
      "411/411 [==============================] - 31s 58ms/step - loss: 0.5131 - accuracy: 0.6355 - val_loss: 0.4460 - val_accuracy: 0.6328\n",
      "Epoch 2/20\n",
      "411/411 [==============================] - 13s 31ms/step - loss: 0.4247 - accuracy: 0.6736 - val_loss: 0.3819 - val_accuracy: 0.6998\n",
      "Epoch 3/20\n",
      "411/411 [==============================] - 13s 31ms/step - loss: 0.3927 - accuracy: 0.7031 - val_loss: 0.3623 - val_accuracy: 0.7168\n",
      "Epoch 4/20\n",
      "411/411 [==============================] - 13s 31ms/step - loss: 0.3731 - accuracy: 0.7214 - val_loss: 0.3468 - val_accuracy: 0.7400\n",
      "Epoch 5/20\n",
      "411/411 [==============================] - 13s 31ms/step - loss: 0.3526 - accuracy: 0.7430 - val_loss: 0.3605 - val_accuracy: 0.7199\n",
      "Epoch 6/20\n",
      "411/411 [==============================] - 13s 31ms/step - loss: 0.3394 - accuracy: 0.7585 - val_loss: 0.3383 - val_accuracy: 0.7515\n",
      "Epoch 7/20\n",
      "411/411 [==============================] - 13s 31ms/step - loss: 0.3199 - accuracy: 0.7696 - val_loss: 0.3274 - val_accuracy: 0.7649\n",
      "Epoch 8/20\n",
      "411/411 [==============================] - 13s 30ms/step - loss: 0.2984 - accuracy: 0.7911 - val_loss: 0.3249 - val_accuracy: 0.7552\n",
      "Epoch 9/20\n",
      "411/411 [==============================] - 13s 31ms/step - loss: 0.2917 - accuracy: 0.7970 - val_loss: 0.3157 - val_accuracy: 0.7674\n",
      "Epoch 10/20\n",
      "411/411 [==============================] - 13s 31ms/step - loss: 0.3106 - accuracy: 0.7919 - val_loss: 0.3010 - val_accuracy: 0.7777\n",
      "Epoch 11/20\n",
      "411/411 [==============================] - 13s 31ms/step - loss: 0.2737 - accuracy: 0.8158 - val_loss: 0.3051 - val_accuracy: 0.7856\n",
      "Epoch 12/20\n",
      "411/411 [==============================] - 12s 30ms/step - loss: 0.2509 - accuracy: 0.8333 - val_loss: 0.3030 - val_accuracy: 0.7868\n",
      "Epoch 13/20\n",
      "411/411 [==============================] - 12s 30ms/step - loss: 0.2422 - accuracy: 0.8357 - val_loss: 0.3047 - val_accuracy: 0.8009\n",
      "Epoch 14/20\n",
      "411/411 [==============================] - 13s 31ms/step - loss: 0.2272 - accuracy: 0.8482 - val_loss: 0.2992 - val_accuracy: 0.7911\n",
      "Epoch 15/20\n",
      "411/411 [==============================] - 13s 31ms/step - loss: 0.2196 - accuracy: 0.8608 - val_loss: 0.3158 - val_accuracy: 0.8027\n",
      "Epoch 16/20\n",
      "411/411 [==============================] - 13s 30ms/step - loss: 0.2007 - accuracy: 0.8697 - val_loss: 0.3276 - val_accuracy: 0.7929\n",
      "Epoch 17/20\n",
      "411/411 [==============================] - 13s 30ms/step - loss: 0.1885 - accuracy: 0.8811 - val_loss: 0.3495 - val_accuracy: 0.7948\n",
      "Epoch 18/20\n",
      "411/411 [==============================] - 13s 31ms/step - loss: 0.1832 - accuracy: 0.8866 - val_loss: 0.3053 - val_accuracy: 0.8015\n",
      "Epoch 19/20\n",
      "411/411 [==============================] - 13s 31ms/step - loss: 0.1728 - accuracy: 0.8928 - val_loss: 0.3111 - val_accuracy: 0.7826\n",
      "Epoch 20/20\n",
      "411/411 [==============================] - 13s 31ms/step - loss: 0.1657 - accuracy: 0.8975 - val_loss: 0.3182 - val_accuracy: 0.8057\n"
     ]
    }
   ],
   "source": [
    "# Train the model\n",
    "history = model.fit(X_train, Y_train, validation_split=0.2, epochs=20, batch_size=16)"
   ]
  },
  {
   "cell_type": "code",
   "execution_count": 15,
   "metadata": {},
   "outputs": [],
   "source": [
    "model.save('model3.h5')"
   ]
  },
  {
   "cell_type": "code",
   "execution_count": 16,
   "metadata": {},
   "outputs": [
    {
     "name": "stdout",
     "output_type": "stream",
     "text": [
      "Test loss: 0.33476969599723816\n"
     ]
    }
   ],
   "source": [
    "# evaluate the model\n",
    "score = model.evaluate(X_test, Y_test, verbose=0)\n",
    "print('Test loss:', score[0])"
   ]
  },
  {
   "cell_type": "code",
   "execution_count": 17,
   "metadata": {},
   "outputs": [
    {
     "name": "stdout",
     "output_type": "stream",
     "text": [
      "Test accuracy: 0.7939600348472595\n"
     ]
    }
   ],
   "source": [
    "# calculate accuracy\n",
    "print('Test accuracy:', score[1])"
   ]
  }
 ],
 "metadata": {
  "kernelspec": {
   "display_name": "ai",
   "language": "python",
   "name": "python3"
  },
  "language_info": {
   "codemirror_mode": {
    "name": "ipython",
    "version": 3
   },
   "file_extension": ".py",
   "mimetype": "text/x-python",
   "name": "python",
   "nbconvert_exporter": "python",
   "pygments_lexer": "ipython3",
   "version": "3.9.16"
  },
  "orig_nbformat": 4
 },
 "nbformat": 4,
 "nbformat_minor": 2
}
